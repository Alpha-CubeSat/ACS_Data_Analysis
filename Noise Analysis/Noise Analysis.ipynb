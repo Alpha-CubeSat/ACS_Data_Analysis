{
 "cells": [
  {
   "cell_type": "code",
   "execution_count": 1,
   "metadata": {
    "collapsed": true
   },
   "outputs": [],
   "source": [
    "import numpy as np\n",
    "import scipy\n",
    "import pandas as pd\n",
    "import matplotlib.pyplot as plt\n",
    "from tqdm import tqdm"
   ]
  },
  {
   "cell_type": "markdown",
   "source": [
    "This notebook takes in noise data(mag field and angular velocity), analyzes its noise distribution, Allan Deivation, and calcuates the covariance matrix"
   ],
   "metadata": {
    "collapsed": false,
    "pycharm": {
     "name": "#%% md\n"
    }
   }
  },
  {
   "cell_type": "code",
   "execution_count": 2,
   "outputs": [
    {
     "data": {
      "text/plain": "array([[ 2.926e+01,  2.906e+01,  2.888e+01, ...,  2.906e+01,  2.938e+01,\n         2.909e+01],\n       [ 6.378e+01,  6.367e+01,  6.343e+01, ...,  6.337e+01,  6.340e+01,\n         6.349e+01],\n       [-5.735e+01, -5.738e+01, -5.820e+01, ..., -5.779e+01, -5.753e+01,\n        -5.709e+01],\n       [ 3.000e-02,  3.000e-02,  4.000e-02, ...,  3.000e-02,  3.000e-02,\n         3.000e-02],\n       [ 1.000e-02,  1.000e-02,  1.000e-02, ...,  1.000e-02,  1.000e-02,\n         1.000e-02],\n       [-3.000e-02, -3.000e-02, -3.000e-02, ..., -3.000e-02, -3.000e-02,\n        -3.000e-02]])"
     },
     "execution_count": 2,
     "metadata": {},
     "output_type": "execute_result"
    }
   ],
   "source": [
    "df = pd.read_csv(\"IMU_noise_T_50ms.txt\")\n",
    "df=df[1000:100000]\n",
    "df.index = np.arange(len(df))\n",
    "w_x= df.iloc[:,0]\n",
    "w_y= df.iloc[:,1]\n",
    "w_z= df.iloc[:,2]\n",
    "\n",
    "mag_x  =df.iloc[:,3]\n",
    "mag_y  =df.iloc[:,4]\n",
    "mag_z  =df.iloc[:,5]\n",
    "\n",
    "dt = 0.001*50\n",
    "t = np.arange(0,mag_x.size)*dt\n",
    "\n",
    "\n",
    "cov_input = np.array([ mag_x,mag_y,mag_z,w_x,w_y,w_z,])\n",
    "\n",
    "df.shape\n",
    "df\n",
    "\n",
    "cov_input.shape\n",
    "\n",
    "cov_input"
   ],
   "metadata": {
    "collapsed": false,
    "pycharm": {
     "name": "#%%\n"
    }
   }
  },
  {
   "cell_type": "code",
   "execution_count": null,
   "outputs": [
    {
     "name": "stderr",
     "output_type": "stream",
     "text": [
      " 13%|█▎        | 1325/9900 [04:57<32:59,  4.33it/s]"
     ]
    }
   ],
   "source": [
    "#Allan Deviation\n",
    "def AD(n, dt, data):\n",
    "    tau = n * dt\n",
    "    AV = 0\n",
    "    SegAvg = []\n",
    "    m = int(mag_x.size / n)\n",
    "\n",
    "    for i in range(m):\n",
    "        sum = 0\n",
    "        for j in range(n):\n",
    "            sum += data[i * n + j]\n",
    "        SegAvg.append(sum / n)\n",
    "\n",
    "    for i in range(len(SegAvg)):\n",
    "        if i + 1 < len(SegAvg):\n",
    "            AV += (SegAvg[i + 1] - SegAvg[i]) ** 2\n",
    "\n",
    "    AV = AV * (1 / (2 * len(SegAvg) - 1))\n",
    "    AD = AV ** (0.5)\n",
    "    return AD\n",
    "\n",
    "ADlists =[]\n",
    "\n",
    "for j in range(6):\n",
    "    nlist = []\n",
    "    ADlist = []\n",
    "    for i in tqdm(range(int(w_x.size/10))):\n",
    "        if i>0:\n",
    "            nlist.append(i)\n",
    "            ADlist.append(AD(i,dt, df.iloc[:,j]))\n",
    "    ADlists.append(ADlist)\n"
   ],
   "metadata": {
    "collapsed": false,
    "pycharm": {
     "name": "#%%\n",
     "is_executing": true
    }
   }
  },
  {
   "cell_type": "code",
   "execution_count": null,
   "outputs": [],
   "source": [
    "#Allan Deviation Function\n",
    "taulist = np.array(nlist)*dt\n",
    "\n",
    "def index2dim(i):\n",
    "    if i==0:\n",
    "        return \"x\"\n",
    "    elif i==1:\n",
    "        return \"y\"\n",
    "    elif i==2:\n",
    "        return \"z\"\n",
    "    else:\n",
    "        return \"Undefined\"\n",
    "\n",
    "for i in range(3):\n",
    "    plt.plot(taulist,ADlists[i], label=index2dim(i))\n",
    "    plt.xscale(\"log\", base=10)\n",
    "    plt.yscale(\"log\", base=10)\n",
    "    plt.ylabel(\"Allan Deviation\")\n",
    "    plt.xlabel(\"tau log10 (time in sec)\")\n",
    "plt.title(\"Allan Deviation Function on Angular Velocity\")\n",
    "plt.legend()\n",
    "plt.show()\n",
    "\n",
    "for i in range(3):\n",
    "    plt.plot(taulist,ADlists[i+3],label=index2dim(i))\n",
    "    plt.xscale(\"log\", base=10)\n",
    "    plt.yscale(\"log\", base=10)\n",
    "    plt.ylabel(\"Allan Deviation\")\n",
    "    plt.xlabel(\"tau log10 (time in sec)\")\n",
    "plt.title(\"Allan Deviation Function on Magnetic Field\")\n",
    "plt.legend()\n",
    "plt.show()\n"
   ],
   "metadata": {
    "collapsed": false,
    "pycharm": {
     "name": "#%%\n",
     "is_executing": true
    }
   }
  },
  {
   "cell_type": "code",
   "execution_count": null,
   "outputs": [],
   "source": [
    "f,pd_wx = scipy.signal.welch(w_x, 1/dt)\n",
    "f,pd_wy = scipy.signal.welch(w_y, 1/dt)\n",
    "f,pd_wz = scipy.signal.welch(w_z, 1/dt)\n",
    "\n",
    "f,pd_mx = scipy.signal.welch(mag_x, 1/dt)\n",
    "f,pd_my = scipy.signal.welch(mag_y, 1/dt)\n",
    "f,pd_mz = scipy.signal.welch(mag_z, 1/dt)\n",
    "\n",
    "plt.plot(f,pd_wx,label=\"w_x\")\n",
    "plt.plot(f,pd_wy,label=\"w_y\")\n",
    "plt.plot(f,pd_wz,label=\"w_z\")\n",
    "\n",
    "plt.ylabel(\"Magnitude (dB)\")\n",
    "plt.xlabel(\"Frequency (Hz)\")\n",
    "plt.title(\"PSD (Welch method) on Angular Velocity\")\n",
    "plt.legend()\n",
    "plt.show()\n",
    "\n",
    "plt.plot(f,pd_mx,label=\"mag_x\")\n",
    "plt.plot(f,pd_my,label=\"mag_y\")\n",
    "plt.plot(f,pd_mz,label=\"mag_z\")\n",
    "\n",
    "plt.ylabel(\"Magnitude (dB)\")\n",
    "plt.xlabel(\"Frequency (Hz)\")\n",
    "plt.title(\"PSD (Welch method) on Magnetic Field\")\n",
    "plt.legend()\n",
    "plt.show()"
   ],
   "metadata": {
    "collapsed": false,
    "pycharm": {
     "name": "#%%\n",
     "is_executing": true
    }
   }
  },
  {
   "cell_type": "code",
   "execution_count": null,
   "outputs": [],
   "source": [
    "\n",
    "w_x_norm = w_x-np.mean(w_x)\n",
    "w_y_norm = w_y-np.mean(w_y)\n",
    "w_z_norm = w_z-np.mean(w_z)\n",
    "\n",
    "n, bins, patches =plt.hist(w_x_norm, bins=20, histtype='bar')\n",
    "plt.show()\n",
    "\n",
    "n, bins, patches = plt.hist(w_y_norm, 20, histtype='bar')\n",
    "plt.show()\n",
    "\n",
    "n, bins, patches = plt.hist(w_z_norm, 20, histtype='bar')\n",
    "plt.show()\n",
    "# plt.plot(w_x,scipy.stats.norm.pdf(w_x),\".\")\n",
    "# plt.show()\n",
    "# plt.plot(w_y,scipy.stats.norm.pdf(w_y),\".\")\n",
    "# plt.show()\n",
    "# plt.plot(w_z,scipy.stats.norm.pdf(w_z),\".\")\n",
    "# plt.show()\n",
    "\n",
    "w_x_norm"
   ],
   "metadata": {
    "collapsed": false,
    "pycharm": {
     "name": "#%%\n",
     "is_executing": true
    }
   }
  },
  {
   "cell_type": "code",
   "execution_count": null,
   "outputs": [],
   "source": [
    "mag_x_norm = mag_x-np.mean(mag_x)\n",
    "mag_y_norm = mag_y-np.mean(mag_y)\n",
    "mag_z_norm = mag_z-np.mean(mag_z)\n",
    "\n",
    "n, bins, patches =plt.hist(mag_x_norm, bins=100, histtype='bar')\n",
    "plt.show()\n",
    "\n",
    "n, bins, patches = plt.hist(mag_y_norm, 100, histtype='bar')\n",
    "plt.show()\n",
    "\n",
    "n, bins, patches = plt.hist(mag_z_norm, 100, histtype='bar')\n",
    "plt.show()\n",
    "# plt.plot(mag_x,scipy.stats.norm.pdf(mag_x),\".\")\n",
    "# plt.show()\n",
    "# plt.plot(mag_y,scipy.stats.norm.pdf(mag_y),\".\")\n",
    "# plt.show()\n",
    "# plt.plot(mag_z,scipy.stats.norm.pdf(mag_z),\".\")\n",
    "# plt.show()"
   ],
   "metadata": {
    "collapsed": false,
    "pycharm": {
     "name": "#%%\n",
     "is_executing": true
    }
   }
  },
  {
   "cell_type": "code",
   "execution_count": 3,
   "outputs": [
    {
     "name": "stdout",
     "output_type": "stream",
     "text": [
      "[[ 2.02557174e-01  5.17509787e-03 -3.16666163e-02 -1.76501723e-04\n",
      "  -3.74887387e-05 -7.75649668e-05]\n",
      " [ 5.17509787e-03  1.55387811e-01  1.07779379e-02 -2.90509018e-05\n",
      "  -8.02923064e-06 -1.26276347e-05]\n",
      " [-3.16666163e-02  1.07779379e-02  3.93158713e-01  9.29620683e-05\n",
      "   1.22495578e-05  5.67086399e-05]\n",
      " [-1.76501723e-04 -2.90509018e-05  9.29620683e-05  1.80159726e-05\n",
      "  -2.27000306e-09 -6.07370830e-07]\n",
      " [-3.74887387e-05 -8.02923064e-06  1.22495578e-05 -2.27000306e-09\n",
      "   6.70137291e-06  2.97295684e-08]\n",
      " [-7.75649668e-05 -1.26276347e-05  5.67086399e-05 -6.07370830e-07\n",
      "   2.97295684e-08  8.52183425e-06]]\n"
     ]
    }
   ],
   "source": [
    "#Cov Matrix\n",
    "\n",
    "def index2dim_total(i):\n",
    "    if i==0:\n",
    "        return mag_x\n",
    "    if i==1:\n",
    "        return mag_y\n",
    "    if i==2:\n",
    "        return mag_z\n",
    "    if i==3:\n",
    "        return w_x\n",
    "    if i==4:\n",
    "        return w_y\n",
    "    if i==5:\n",
    "        return w_z\n",
    "\n",
    "def cov(a,b):\n",
    "    a_mean = np.mean(a)\n",
    "    b_mean = np.mean(b)\n",
    "\n",
    "    return np.mean((a-a_mean)*(b-b_mean))\n",
    "\n",
    "w_cov = np.zeros((3,3))\n",
    "mag_cov = np.zeros((3,3))\n",
    "\n",
    "total_cov = np.zeros((6,6))\n",
    "\n",
    "for i in range(6):\n",
    "    for j in range(6):\n",
    "        total_cov[i][j] = cov(index2dim_total(i),index2dim_total(j))\n",
    "print(total_cov)\n"
   ],
   "metadata": {
    "collapsed": false,
    "pycharm": {
     "name": "#%%\n"
    }
   }
  },
  {
   "cell_type": "code",
   "execution_count": null,
   "outputs": [],
   "source": [
    "print(np.cov(cov_input))"
   ],
   "metadata": {
    "collapsed": false,
    "pycharm": {
     "name": "#%%\n",
     "is_executing": true
    }
   }
  }
 ],
 "metadata": {
  "kernelspec": {
   "display_name": "Python 3",
   "language": "python",
   "name": "python3"
  },
  "language_info": {
   "codemirror_mode": {
    "name": "ipython",
    "version": 2
   },
   "file_extension": ".py",
   "mimetype": "text/x-python",
   "name": "python",
   "nbconvert_exporter": "python",
   "pygments_lexer": "ipython2",
   "version": "2.7.6"
  }
 },
 "nbformat": 4,
 "nbformat_minor": 0
}